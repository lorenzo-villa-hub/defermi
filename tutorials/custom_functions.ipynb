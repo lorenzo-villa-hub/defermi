{
 "cells": [
  {
   "cell_type": "code",
   "execution_count": null,
   "id": "179049b8",
   "metadata": {},
   "outputs": [],
   "source": [
    "# T-dependence in volume in defect concentrations\n",
    "def custom_dconc(\n",
    "                entry,\n",
    "                vbm=0,\n",
    "                chemical_potentials=None,\n",
    "                temperature=0,\n",
    "                fermi_level=0,\n",
    "                per_unit_volume=True,\n",
    "                eform_kwargs={},\n",
    "                **kwargs):\n",
    "        \n",
    "        from pynter.defects.entries import fermi_dirac\n",
    "        if per_unit_volume:\n",
    "            temperature_correction_to_volume = 1/500*temperature\n",
    "            n = entry.defect.site_concentration_in_cm3 \n",
    "            n = n*(1 + temperature_correction_to_volume)\n",
    "        else:\n",
    "             n = entry.multiplicity\n",
    "\n",
    "        eform = entry.formation_energy(\n",
    "                                vbm=vbm,\n",
    "                                chemical_potentials=chemical_potentials,\n",
    "                                fermi_level=fermi_level,\n",
    "                                temperature=temperature,\n",
    "                                **eform_kwargs)\n",
    "        \n",
    "        return  n * fermi_dirac(eform,temperature)"
   ]
  }
 ],
 "metadata": {
  "language_info": {
   "name": "python"
  }
 },
 "nbformat": 4,
 "nbformat_minor": 5
}
